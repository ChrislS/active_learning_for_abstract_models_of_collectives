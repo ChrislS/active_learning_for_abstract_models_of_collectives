{
 "metadata": {
  "name": "",
  "signature": "sha256:b754c72c6eaf087857c135ebbfc85b6bdc04277710c3076fb3fd45e75060fd83"
 },
 "nbformat": 3,
 "nbformat_minor": 0,
 "worksheets": [
  {
   "cells": [
    {
     "cell_type": "code",
     "collapsed": false,
     "input": [
      "import numpy as np\n",
      "import matplotlib.pyplot as plt\n",
      "import analysisUtils.analysisUtils as au\n",
      "import pylab\n",
      "import scipy.stats as st\n",
      "import GPy"
     ],
     "language": "python",
     "metadata": {},
     "outputs": [],
     "prompt_number": 2
    },
    {
     "cell_type": "code",
     "collapsed": false,
     "input": [
      "# read test file, start with 300 plants\n",
      "prefix = 'plants/'\n",
      "cp = 400\n",
      "prefix = str(cp) + prefix"
     ],
     "language": "python",
     "metadata": {},
     "outputs": [],
     "prompt_number": 3
    },
    {
     "cell_type": "code",
     "collapsed": false,
     "input": [
      "dataCentral = np.genfromtxt(prefix+'results_central.csv', dtype=float, delimiter=';', skip_header=0,names=True)\n",
      "centralTimeColumn = 'runtimePerStepCentral'        \n",
      "timePerStepCentral = au.readCol(dataCentral,  centralTimeColumn)\n",
      "print np.mean(timePerStepCentral), ' (', np.std(timePerStepCentral),')'"
     ],
     "language": "python",
     "metadata": {},
     "outputs": [
      {
       "output_type": "stream",
       "stream": "stdout",
       "text": [
        "218.179101805  ( 529.113132552 )\n"
       ]
      }
     ],
     "prompt_number": 4
    },
    {
     "cell_type": "code",
     "collapsed": false,
     "input": [
      "isps = [20, 30]\n",
      "sps = [20, 25, 30, 35, 40]\n",
      "\n",
      "costsColumn = 'Toplevelcostsregiocentral'\n",
      "rootCostsColumn = 'Rootcostsregiocentral'\n",
      "\n",
      "dataCentral = np.genfromtxt(prefix+'results_central.csv', dtype=float, delimiter=';', skip_header=0,names=True)\n",
      "centralCostsColumn = 'Toplevelcostscentral'        \n",
      "costsCentral = au.readCol(dataCentral,  centralCostsColumn)\n",
      "\n",
      "\n",
      "for isp in isps:\n",
      "    print 'Now starting from ', isp, ' initial sampling points'\n",
      "    for sp in sps:\n",
      "        # sp_20_statSamp_0_initP_20_\n",
      "        dataAL = np.genfromtxt(prefix+'sp_'+str(sp)+'_statSamp_0_initP_'+str(isp)+'_.csv', dtype=float, delimiter=';', skip_header=0,names=True)\n",
      "        dataEQ = np.genfromtxt(prefix+'sp_'+str(sp)+'_statSamp_1_initP_'+str(isp)+'_.csv', dtype=float, delimiter=';', skip_header=0,names=True)\n",
      "        \n",
      "        costsAL = au.readCol(dataAL,  costsColumn) - costsCentral\n",
      "        meanCostsAL = np.mean(costsAL)\n",
      "        \n",
      "        rootCostsAL = au.readCol(dataAL, rootCostsColumn) - costsCentral\n",
      "        abstrDiffAL = np.abs(rootCostsAL - costsAL)\n",
      "        meanAbstrDiffAL = np.mean(abstrDiffAL)\n",
      "        \n",
      "        costsEQ = au.readCol(dataEQ,  costsColumn)  - costsCentral\n",
      "        meanCostsEQ = np.mean(costsEQ)\n",
      "    \n",
      "        rootCostsEQ = au.readCol(dataEQ, rootCostsColumn) - costsCentral\n",
      "        abstrDiffEQ = np.abs(rootCostsEQ - costsEQ)\n",
      "        meanAbstrDiffEQ = np.mean(abstrDiffEQ)\n",
      "        \n",
      "        \n",
      "        diff = costsAL-costsEQ\n",
      "        meanDiff = np.mean(diff)\n",
      "        \n",
      "        print 'For ' + str(sp) + ' sampling points: Mean. Costs AL ', meanCostsAL, ' Mean. Costs EQ', meanCostsEQ, ' Diff ', meanDiff\n",
      "        print '     diff AL ', meanAbstrDiffAL, ' diff EQ ', meanAbstrDiffEQ\n",
      "        \n",
      "        # now for statistical significance\n",
      "        [t, prob] = st.ttest_rel(np.array(costsEQ), np.array(costsAL))\n",
      "        print 't: ', t, ' prob: ', prob\n",
      "\n",
      "        if prob < 0.05:\n",
      "            print '    SIGNIFICANT'\n",
      "        else:\n",
      "            print '    insignficant'\n",
      "            "
     ],
     "language": "python",
     "metadata": {},
     "outputs": [
      {
       "output_type": "stream",
       "stream": "stdout",
       "text": [
        "Now starting from  20  initial sampling points\n",
        "For 20 sampling points: Mean. Costs AL "
       ]
      },
      {
       "output_type": "stream",
       "stream": "stdout",
       "text": [
        " 1296.01055774  Mean. Costs EQ 1372.28348592  Diff  -76.2729281736\n",
        "     diff AL  973.855707057  diff EQ  1064.83200502\n",
        "t:  0.554964287855  prob:  0.579960742806\n",
        "    insignficant\n",
        "For 25 sampling points: Mean. Costs AL "
       ]
      },
      {
       "output_type": "stream",
       "stream": "stdout",
       "text": [
        " 1251.4081081  Mean. Costs EQ 1378.61115746  Diff  -127.203049351\n",
        "     diff AL  994.216477814  diff EQ  1079.31860489\n",
        "t:  0.886808223952  prob:  0.376970871833\n",
        "    insignficant\n",
        "For 30 sampling points: Mean. Costs AL "
       ]
      },
      {
       "output_type": "stream",
       "stream": "stdout",
       "text": [
        " 1231.77711991  Mean. Costs EQ 1368.47401676  Diff  -136.696896848\n",
        "     diff AL  1062.29742607  diff EQ  1151.20942782\n",
        "t:  0.863285681057  prob:  0.389717004788\n",
        "    insignficant\n",
        "For 35 sampling points: Mean. Costs AL "
       ]
      },
      {
       "output_type": "stream",
       "stream": "stdout",
       "text": [
        " 1025.13365942  Mean. Costs EQ 1238.28529636  Diff  -213.151636939\n",
        "     diff AL  1021.49044734  diff EQ  1081.65823103\n",
        "t:  1.67256824934  prob:  0.0970394948238\n",
        "    insignficant\n",
        "For 40 sampling points: Mean. Costs AL "
       ]
      },
      {
       "output_type": "stream",
       "stream": "stdout",
       "text": [
        " 985.783292055  Mean. Costs EQ 1194.68869393  Diff  -208.905401872\n",
        "     diff AL  1016.30102683  diff EQ  1082.27962194\n",
        "t:  1.48245571025  prob:  0.140862498126\n",
        "    insignficant\n",
        "Now starting from  30  initial sampling points\n",
        "For 20 sampling points: Mean. Costs AL "
       ]
      },
      {
       "output_type": "stream",
       "stream": "stdout",
       "text": [
        " 1060.08415545  Mean. Costs EQ 1299.89536204  Diff  -239.811206591\n",
        "     diff AL  993.329975341  diff EQ  1083.16599971\n",
        "t:  1.46311697291  prob:  0.146071668711\n",
        "    insignficant\n",
        "For 25 sampling points: Mean. Costs AL "
       ]
      },
      {
       "output_type": "stream",
       "stream": "stdout",
       "text": [
        " 979.973572855  Mean. Costs EQ 1238.28529636  Diff  -258.311723503\n",
        "     diff AL  1005.81101605  diff EQ  1081.65823103\n",
        "t:  1.90954669052  prob:  0.0585990579757\n",
        "    insignficant\n",
        "For 30 sampling points: Mean. Costs AL "
       ]
      },
      {
       "output_type": "stream",
       "stream": "stdout",
       "text": [
        " 1090.14614323  Mean. Costs EQ 1282.07380928  Diff  -191.927666049\n",
        "     diff AL  1123.35225717  diff EQ  1169.66473603\n",
        "t:  1.37416304534  prob:  0.171973711557\n",
        "    insignficant\n",
        "For 35 sampling points: Mean. Costs AL "
       ]
      },
      {
       "output_type": "stream",
       "stream": "stdout",
       "text": [
        " 937.890325161  Mean. Costs EQ 1146.20428357  Diff  -208.313958412\n",
        "     diff AL  1047.48744754  diff EQ  1067.88113659\n",
        "t:  1.49563654391  prob:  0.137395731104\n",
        "    insignficant\n",
        "For 40 sampling points: Mean. Costs AL "
       ]
      },
      {
       "output_type": "stream",
       "stream": "stdout",
       "text": [
        " 926.873579574  Mean. Costs EQ 1025.79600273  Diff  -98.9224231608\n",
        "     diff AL  1065.71831809  diff EQ  1064.88987906\n",
        "t:  0.687288096746  prob:  0.493238497687\n",
        "    insignficant\n"
       ]
      }
     ],
     "prompt_number": 153
    },
    {
     "cell_type": "code",
     "collapsed": false,
     "input": [
      "isps = [20, 30]\n",
      "sps = [20, 25, 30, 35, 40]\n",
      "\n",
      "costsColumn = 'Toplevelcostsregiocentral'\n",
      "rootCostsColumn = 'Rootcostsregiocentral'\n",
      "timeColumn = 'Totalruntimeregiocentral'\n",
      "timePerStep = 'runtimePerStepRegioCentral'\n",
      "fixedAbstractionTime = 'FixedAbstractionTimes'\n",
      "fixedAbstractionPerAvpp = 'FixedAbstractionTimesPerAVPP'\n",
      "lsp = 'Longest_serial_path'\n",
      "tradeoffsEQ = []\n",
      "tradeoffsAL = []\n",
      "\n",
      "dataCentral = np.genfromtxt(prefix+'results_central.csv', dtype=float, delimiter=';', skip_header=0,names=True)\n",
      "centralCostsColumn = 'Toplevelcostscentral'        \n",
      "costsCentral = au.readCol(dataCentral,  centralCostsColumn)\n",
      "\n",
      "for isp in isps:\n",
      "    print 'Now starting from ', isp, ' initial sampling points'\n",
      "    \n",
      "    for sp in sps:\n",
      "        \n",
      "        dataAL = np.genfromtxt(prefix+'sp_'+str(sp)+'_statSamp_0_initP_'+str(isp)+'_.csv', dtype=float, delimiter=';', skip_header=0,names=True)\n",
      "        dataEQ = np.genfromtxt(prefix+'sp_'+str(sp)+'_statSamp_1_initP_'+str(isp)+'_.csv', dtype=float, delimiter=';', skip_header=0,names=True)\n",
      "           \n",
      "        costsAL = au.readCol(dataAL,  costsColumn) \n",
      "        meanCostsAL = np.mean(costsAL)\n",
      "    \n",
      "        totalTimeAL = au.readCol(dataAL, timeColumn)\n",
      "        meanTimeAL = np.mean(totalTimeAL)\n",
      "        \n",
      "        timePerStepAL = au.readCol(dataAL, timePerStep)\n",
      "        meanTimePerStepAL = np.mean(timePerStepAL)\n",
      "        \n",
      "        costsEQ = au.readCol(dataEQ,  costsColumn) \n",
      "        meanCostsEQ = np.mean(costsEQ)\n",
      "        \n",
      "        totalTimeEQ = au.readCol(dataEQ, timeColumn)\n",
      "        meanTimeEQ = np.mean(totalTimeEQ)\n",
      "        \n",
      "        timePerStepEQ = au.readCol(dataEQ, timePerStep)\n",
      "        meanTimePerStepEQ = np.mean(timePerStepEQ)\n",
      "        \n",
      "        diff = costsAL-costsEQ\n",
      "        meanDiff = np.mean(diff)\n",
      "        \n",
      "        fixedAbstractionEQ = au.readCol(dataEQ, fixedAbstractionTime)\n",
      "        meanFixedAbstrEQ = np.mean(fixedAbstractionEQ)\n",
      "        \n",
      "        lspAL = au.readCol(dataAL, lsp)\n",
      "        meanLspAL = np.mean(lspAL)\n",
      "        \n",
      "        lspEQ = au.readCol(dataEQ, lsp)\n",
      "        meanLspEQ = np.mean(lspEQ)\n",
      "        \n",
      "        fixedAbstractionAL = au.readCol(dataAL, fixedAbstractionTime)\n",
      "        meanFixedAbstrAL = np.mean(fixedAbstractionAL)\n",
      "        \n",
      "        # forgot to convert to seconds\n",
      "        fixedAbstractionAvppEQ = au.readCol(dataEQ, fixedAbstractionPerAvpp) * 1.0e-9\n",
      "        meanFixedAbstrAvppEQ = np.mean(fixedAbstractionAvppEQ)\n",
      "        \n",
      "        fixedAbstractionAvppAL = au.readCol(dataAL, fixedAbstractionPerAvpp) * 1.0e-9\n",
      "        meanFixedAbstrAvppAL = np.mean(fixedAbstractionAvppAL)\n",
      "\n",
      "        overheadAL = costsAL - costsCentral\n",
      "        overheadEQ = costsEQ - costsCentral\n",
      "        \n",
      "        tradeoffsEQ += [(meanFixedAbstrEQ, meanFixedAbstrAvppEQ, np.mean(overheadEQ), sp+isp)]\n",
      "        tradeoffsAL += [(meanFixedAbstrAL, meanFixedAbstrAvppAL, np.mean(overheadAL), sp+isp)]\n",
      "        \n",
      "        reloverheadAL = costsAL / costsCentral\n",
      "        meanRelOverheadAL = np.mean(reloverheadAL)\n",
      "        \n",
      "        reloverheadEQ = costsEQ / costsCentral\n",
      "        meanRelOverheadEQ = np.mean(reloverheadEQ)\n",
      "        \n",
      "        print 'For ' + str(sp) + ' sampling points:' \n",
      "        print '  Mean. Costs AL ', meanCostsAL\n",
      "        print '  Mean. Costs EQ', meanCostsEQ \n",
      "        print '  Diff ', meanDiff\n",
      "        print '  Total time AL ', meanTimeAL\n",
      "        print '  Total time EQ ', meanTimeEQ\n",
      "        print '  Time/step AL ', meanTimePerStepAL\n",
      "        print '  Time/step EQ ', meanTimePerStepEQ\n",
      "        print '  Abstr. Time / AL ', meanFixedAbstrAL\n",
      "        print '  Abstr. Time / EQ ', meanFixedAbstrEQ\n",
      "        print '  Abstr. Time AVPP / AL ', meanFixedAbstrAvppAL\n",
      "        print '  Abstr. Time AVPP / EQ ', meanFixedAbstrAvppEQ\n",
      "        print '  LSP / AL ', meanLspAL\n",
      "        print '  LSP / EQ ', meanLspEQ\n",
      "        print '  Rel overhead AL', meanRelOverheadAL\n",
      "        print '  Rel overhead EQ', meanRelOverheadEQ\n",
      "        \n",
      "    "
     ],
     "language": "python",
     "metadata": {},
     "outputs": [
      {
       "output_type": "stream",
       "stream": "stdout",
       "text": [
        "Now starting from  20  initial sampling points\n",
        "For 20 sampling points:"
       ]
      },
      {
       "output_type": "stream",
       "stream": "stdout",
       "text": [
        "\n",
        "  Mean. Costs AL  81491.4763623\n",
        "  Mean. Costs EQ 81567.7492905\n",
        "  Diff  -76.2729281736\n",
        "  Total time AL  2750.70015284\n",
        "  Total time EQ  2855.74621974\n",
        "  Time/step AL  36.022624422\n",
        "  Time/step EQ  54.1079361465\n",
        "  Abstr. Time / AL  1886.17138625\n",
        "  Abstr. Time / EQ  1557.16447197\n",
        "  Abstr. Time AVPP / AL  60.8422203705\n",
        "  Abstr. Time AVPP / EQ  50.2293648994\n",
        "  LSP / AL  9.4634782896\n",
        "  LSP / EQ  23.0716334287\n",
        "  Rel overhead AL 1.01590456062\n",
        "  Rel overhead EQ 1.01652534123\n",
        "For 25 sampling points:"
       ]
      },
      {
       "output_type": "stream",
       "stream": "stdout",
       "text": [
        "\n",
        "  Mean. Costs AL  81446.8739127\n",
        "  Mean. Costs EQ 81574.076962\n",
        "  Diff  -127.203049351\n",
        "  Total time AL  3045.414265\n",
        "  Total time EQ  2740.72483771\n",
        "  Time/step AL  39.2628614463\n",
        "  Time/step EQ  45.992837092\n",
        "  Abstr. Time / AL  2103.11652349\n",
        "  Abstr. Time / EQ  1636.90367386\n",
        "  Abstr. Time AVPP / AL  67.8405162095\n",
        "  Abstr. Time AVPP / EQ  52.8019466897\n",
        "  LSP / AL  11.4361886517\n",
        "  LSP / EQ  15.4141269635\n",
        "  Rel overhead AL 1.01486836505\n",
        "  Rel overhead EQ 1.01638041495\n",
        "For 30 sampling points:"
       ]
      },
      {
       "output_type": "stream",
       "stream": "stdout",
       "text": [
        "\n",
        "  Mean. Costs AL  81427.2429245\n",
        "  Mean. Costs EQ 81563.9398213\n",
        "  Diff  -136.696896848\n",
        "  Total time AL  3574.28776664\n",
        "  Total time EQ  2849.78062939\n",
        "  Time/step AL  43.3476101485\n",
        "  Time/step EQ  39.9352846757\n",
        "  Abstr. Time / AL  2533.95530824\n",
        "  Abstr. Time / EQ  1891.34966251\n",
        "  Abstr. Time AVPP / AL  81.7390621547\n",
        "  Abstr. Time AVPP / EQ  61.0097548198\n",
        "  LSP / AL  12.044833484\n",
        "  LSP / EQ  9.61136639667\n",
        "  Rel overhead AL 1.01438179529\n",
        "  Rel overhead EQ 1.01618757339\n",
        "For 35 sampling points:"
       ]
      },
      {
       "output_type": "stream",
       "stream": "stdout",
       "text": [
        "\n",
        "  Mean. Costs AL  81220.599464\n",
        "  Mean. Costs EQ 81433.7511009\n",
        "  Diff  -213.151636939\n",
        "  Total time AL  3595.19993098\n",
        "  Total time EQ  3150.04480762\n",
        "  Time/step AL  36.8833647753\n",
        "  Time/step EQ  39.6761438149\n",
        "  Abstr. Time / AL  2710.01425467\n",
        "  Abstr. Time / EQ  2197.82249386\n",
        "  Abstr. Time AVPP / AL  87.4178597046\n",
        "  Abstr. Time AVPP / EQ  70.8958843164\n",
        "  LSP / AL  8.6231628652\n",
        "  LSP / EQ  9.93265319973\n",
        "  Rel overhead AL 1.01214069343\n",
        "  Rel overhead EQ 1.01477989583\n",
        "For 40 sampling points:"
       ]
      },
      {
       "output_type": "stream",
       "stream": "stdout",
       "text": [
        "\n",
        "  Mean. Costs AL  81181.2490966\n",
        "  Mean. Costs EQ 81390.1544985\n",
        "  Diff  -208.905401872\n",
        "  Total time AL  3909.10041658\n",
        "  Total time EQ  3234.10238954\n",
        "  Time/step AL  42.3465856548\n",
        "  Time/step EQ  43.7305277585\n",
        "  Abstr. Time / AL  2892.79494753\n",
        "  Abstr. Time / EQ  2184.57874871\n",
        "  Abstr. Time AVPP / AL  93.3142413578\n",
        "  Abstr. Time AVPP / EQ  70.4688419781\n",
        "  LSP / AL  13.6404588115\n",
        "  LSP / EQ  13.8860947157\n",
        "  Rel overhead AL 1.01152418088\n",
        "  Rel overhead EQ 1.01417202909\n",
        "Now starting from  30  initial sampling points\n",
        "For 20 sampling points:"
       ]
      },
      {
       "output_type": "stream",
       "stream": "stdout",
       "text": [
        "\n",
        "  Mean. Costs AL  81255.54996\n",
        "  Mean. Costs EQ 81495.3611666\n",
        "  Diff  -239.811206591\n",
        "  Total time AL  2961.60916137\n",
        "  Total time EQ  2648.58381938\n",
        "  Time/step AL  34.7225804563\n",
        "  Time/step EQ  36.9119661753\n",
        "  Abstr. Time / AL  2128.28207546\n",
        "  Abstr. Time / EQ  1762.70287111\n",
        "  Abstr. Time AVPP / AL  68.6524269282\n",
        "  Abstr. Time AVPP / EQ  56.8600252503\n",
        "  LSP / AL  8.32473596747\n",
        "  LSP / EQ  8.81738636387\n",
        "  Rel overhead AL 1.0124829288\n",
        "  Rel overhead EQ 1.01557570675\n",
        "For 25 sampling points:"
       ]
      },
      {
       "output_type": "stream",
       "stream": "stdout",
       "text": [
        "\n",
        "  Mean. Costs AL  81175.4393774\n",
        "  Mean. Costs EQ 81433.7511009\n",
        "  Diff  -258.311723503\n",
        "  Total time AL  3262.80511315\n",
        "  Total time EQ  2967.11260409\n",
        "  Time/step AL  35.7541368067\n",
        "  Time/step EQ  38.8927950465\n",
        "  Abstr. Time / AL  2404.71822489\n",
        "  Abstr. Time / EQ  2033.69165634\n",
        "  Abstr. Time AVPP / AL  77.5697722061\n",
        "  Abstr. Time AVPP / EQ  65.6015087918\n",
        "  LSP / AL  8.15673894067\n",
        "  LSP / EQ  9.83211359667\n",
        "  Rel overhead AL 1.01142731693\n",
        "  Rel overhead EQ 1.01477989583\n",
        "For 30 sampling points:"
       ]
      },
      {
       "output_type": "stream",
       "stream": "stdout",
       "text": [
        "\n",
        "  Mean. Costs AL  81285.6119478\n",
        "  Mean. Costs EQ 81477.5396139\n",
        "  Diff  -191.927666049\n",
        "  Total time AL  3943.39501852\n",
        "  Total time EQ  3342.97644708\n",
        "  Time/step AL  40.6273869932\n",
        "  Time/step EQ  43.4791513975\n",
        "  Abstr. Time / AL  2968.35231477\n",
        "  Abstr. Time / EQ  2299.48816486\n",
        "  Abstr. Time AVPP / AL  95.7518594924\n",
        "  Abstr. Time AVPP / EQ  74.1755272374\n",
        "  LSP / AL  10.3182315056\n",
        "  LSP / EQ  13.1317352795\n",
        "  Rel overhead AL 1.01256282163\n",
        "  Rel overhead EQ 1.01493515028\n",
        "For 35 sampling points:"
       ]
      },
      {
       "output_type": "stream",
       "stream": "stdout",
       "text": [
        "\n",
        "  Mean. Costs AL  81133.3561297\n",
        "  Mean. Costs EQ 81341.6700882\n",
        "  Diff  -208.313958412\n",
        "  Total time AL  4010.29905481\n",
        "  Total time EQ  3654.79093997\n",
        "  Time/step AL  36.6049141641\n",
        "  Time/step EQ  40.6401963723\n",
        "  Abstr. Time / AL  3131.79404134\n",
        "  Abstr. Time / EQ  2679.43348345\n",
        "  Abstr. Time AVPP / AL  101.023808356\n",
        "  Abstr. Time AVPP / EQ  86.4316969889\n",
        "  LSP / AL  9.515212742\n",
        "  LSP / EQ  10.5257846456\n",
        "  Rel overhead AL 1.01098614499\n",
        "  Rel overhead EQ 1.01358021542\n",
        "For 40 sampling points:"
       ]
      },
      {
       "output_type": "stream",
       "stream": "stdout",
       "text": [
        "\n",
        "  Mean. Costs AL  81122.3393842\n",
        "  Mean. Costs EQ 81221.2618073\n",
        "  Diff  -98.9224231608\n",
        "  Total time AL  4336.37895274\n",
        "  Total time EQ  3744.73836909\n",
        "  Time/step AL  39.1376980281\n",
        "  Time/step EQ  45.3176126629\n",
        "  Abstr. Time / AL  3397.08578582\n",
        "  Abstr. Time / EQ  2657.12217259\n",
        "  Abstr. Time AVPP / AL  109.581663078\n",
        "  Abstr. Time AVPP / EQ  85.712203649\n",
        "  LSP / AL  10.9126994469\n",
        "  LSP / EQ  13.6044900991\n",
        "  Rel overhead AL 1.01093939707\n",
        "  Rel overhead EQ 1.01180688155\n"
       ]
      }
     ],
     "prompt_number": 154
    },
    {
     "cell_type": "code",
     "collapsed": false,
     "input": [
      "tradeNPAL = np.array(tradeoffsAL)\n",
      "tradeNPEQ = np.array(tradeoffsEQ)\n",
      "spNumbers = tradeNPAL[:,3]\n",
      "alphaMin = 0.3\n",
      "alphaMax = 1.0\n",
      "spMin = spNumbers.min()\n",
      "spMax = spNumbers.max()\n",
      "# color definition latex \\\\definecolor{isseorange}{RGB}{255,147,10}\"\n",
      "isseorange = (1.0, 0.57647, 0.039216)\n",
      "\n",
      "for spSum in spNumbers:\n",
      "    subAL = np.where(spNumbers == spSum)\n",
      "    alphaVal = alphaMin + ((spSum - spMin) / (spMax - spMin)) * (alphaMax - alphaMin)\n",
      "    alphaDraw = 1.0 - alphaVal\n",
      "    plot(tradeNPAL[subAL,1], tradeNPAL[subAL,2], '8', markerfacecolor=(1.0, 0.57647, 0.039216, alphaVal))\n",
      "    plot(tradeNPEQ[subAL,1], tradeNPEQ[subAL,2], 's', color=(0.0,0.0,0.0, alphaVal))\n",
      "        \n",
      "\n",
      "\n",
      "ylabel('Overhead Costs / 15 mins (EUR)')\n",
      "xlabel('Abstraction time / AVPP (sec)')\n",
      "import matplotlib.patches as mpatches\n",
      "import matplotlib.pyplot as plt\n",
      "import matplotlib.lines as mlines\n",
      "\n",
      "orange_line = mlines.Line2D([], [], color=(1.0, 0.57647, 0.039216), marker='8', linestyle='', label='Active Learning')\n",
      "gray_line = mlines.Line2D([], [], color=(0.0, 0.0, 0.0), marker='s', linestyle='', label='Equidistant')\n",
      "\n",
      "plt.legend(handles=[orange_line, gray_line])\n",
      "grid()\n",
      "legend(loc=2)\n",
      "savefig('tradeoff'+str(cp)+'.pdf')\n",
      "\n",
      "plt.show()\n"
     ],
     "language": "python",
     "metadata": {},
     "outputs": [
      {
       "metadata": {},
       "output_type": "display_data",
       "png": "[encoded data removed]",
       "text": [
        "<matplotlib.figure.Figure at 0xa04cb70>"
       ]
      }
     ],
     "prompt_number": 155
    },
    {
     "cell_type": "code",
     "collapsed": false,
     "input": [
      "isps = [20, 30]\n",
      "sps = [20, 25, 30, 35, 40]\n",
      "\n",
      "costsColumn = 'Toplevelcostsregiocentral'\n",
      "rootCostsColumn = 'Rootcostsregiocentral'\n",
      "\n",
      "\n",
      "#!/usr/bin/env python\n",
      "# a bar plot with errorbars\n",
      "import numpy as np\n",
      "import matplotlib.pyplot as plt\n",
      "\n",
      "N = 5\n",
      "\n",
      "# read central values as benchmarks\n",
      "\n",
      "dataCentral = np.genfromtxt(prefix+'results_central.csv', dtype=float, delimiter=';', skip_header=0,names=True)\n",
      "centralCostsColumn = 'Toplevelcostscentral'        \n",
      "costsCentral = au.readCol(dataCentral,  centralCostsColumn)\n",
      "coeff = 6.0\n",
      "isseorange = (1.0, 0.57647, 0.039216)\n",
      "\n",
      "for isp in isps:\n",
      "    print 'Now starting from ', isp, ' initial sampling points'\n",
      "    meansAL = []\n",
      "    stdAL = []\n",
      "    \n",
      "    meansEQ = []\n",
      "    stdEQ = []\n",
      "    \n",
      "    for sp in sps:\n",
      "        # sp_20_statSamp_0_initP_20_\n",
      "        dataAL = np.genfromtxt(prefix+'sp_'+str(sp)+'_statSamp_0_initP_'+str(isp)+'_.csv', dtype=float, delimiter=';', skip_header=0,names=True)\n",
      "        dataEQ = np.genfromtxt(prefix+'sp_'+str(sp)+'_statSamp_1_initP_'+str(isp)+'_.csv', dtype=float, delimiter=';', skip_header=0,names=True)\n",
      "        \n",
      "        costsAL = au.readCol(dataAL,  costsColumn)\n",
      "        # now try with absolute additional costs\n",
      "        costsAL = (costsAL - costsCentral) \n",
      "        \n",
      "        meanCostsAL = np.mean(costsAL)\n",
      "        stdCostsAL = np.std(costsAL) / coeff\n",
      "        meansAL += [meanCostsAL]\n",
      "        stdAL += [stdCostsAL]\n",
      "        \n",
      "        costsEQ = au.readCol(dataEQ,  costsColumn) \n",
      "        costsEQ = (costsEQ - costsCentral)\n",
      "        \n",
      "        meanCostsEQ = np.mean(costsEQ)\n",
      "        stdCostsEQ = np.std(costsEQ) / coeff\n",
      "        meansEQ += [meanCostsEQ]\n",
      "        stdEQ += [stdCostsEQ]\n",
      "        \n",
      "\n",
      "    menMeans = meansAL\n",
      "    menStd =   stdAL\n",
      "\n",
      "    ind = np.arange(N)  # the x locations for the groups\n",
      "    width = 0.15       # the width of the bars\n",
      "\n",
      "    fig, ax = plt.subplots()\n",
      "    rects1 = ax.bar(ind, menMeans, width, color=isseorange, yerr=menStd,ecolor='black', hatch=\"//\")\n",
      "\n",
      "    womenMeans = meansEQ\n",
      "    womenStd =   stdEQ\n",
      "    rects2 = ax.bar(ind+width, womenMeans, width, color='0.75', yerr=womenStd, ecolor='black', hatch=\"\\\\\\\\\")\n",
      "\n",
      "# add some text for labels, title and axes ticks\n",
      "    ax.set_ylabel('Overhead Costs / 15 mins (EUR)')\n",
      "    ax.set_xlabel('Additional Sampling Points')\n",
      "    ax.set_title(str(isp) + ' initial sampling points')\n",
      "    ax.set_xticks(ind+width)\n",
      "    ticklabels = [str(sp) for sp in sps]\n",
      "    ax.set_xticklabels( ticklabels )\n",
      "\n",
      "    ax.legend( (rects1[0], rects2[0]), ('Active Learning', 'Equidistant') )\n",
      "   # plt.grid()\n",
      "    savefig('ALEQ-comp-init-'+str(isp) + \"-\"+str(cp)+\"-plants.pdf\")\n",
      "    plt.show()\n",
      "    figure()"
     ],
     "language": "python",
     "metadata": {},
     "outputs": [
      {
       "output_type": "stream",
       "stream": "stdout",
       "text": [
        "Now starting from  20  initial sampling points\n"
       ]
      },
      {
       "metadata": {},
       "output_type": "display_data",
       "png": "[encoded data removed]",
       "text": [
        "<matplotlib.figure.Figure at 0x13ef8748>"
       ]
      },
      {
       "output_type": "stream",
       "stream": "stdout",
       "text": [
        "Now starting from  30  initial sampling points\n"
       ]
      },
      {
       "metadata": {},
       "output_type": "display_data",
       "text": [
        "<matplotlib.figure.Figure at 0x13ee7080>"
       ]
      },
      {
       "metadata": {},
       "output_type": "display_data",
       "png": "[encoded data removed]",
       "text": [
        "<matplotlib.figure.Figure at 0x138b2908>"
       ]
      },
      {
       "metadata": {},
       "output_type": "display_data",
       "text": [
        "<matplotlib.figure.Figure at 0x13f5be10>"
       ]
      }
     ],
     "prompt_number": 10
    },
    {
     "cell_type": "code",
     "collapsed": false,
     "input": [
      "from pylab import arange,pi,sin,cos,sqrt\n",
      "fig_width_pt = 400  # Get this from LaTeX using \\showthe\\columnwidth\n",
      "inches_per_pt = 1.0/72.27               # Convert pt to inch\n",
      "golden_mean = (sqrt(5)-1.0)/2.0         # Aesthetic ratio\n",
      "fig_width = fig_width_pt*inches_per_pt  # width in inches\n",
      "fig_height = fig_width*golden_mean      # height in inches\n",
      "fig_size =  [fig_width,fig_height]\n",
      "params = {'backend': 'ps',\n",
      "          'axes.labelsize': 12,\n",
      "          'text.fontsize': 12,\n",
      "          'legend.fontsize': 12,\n",
      "          'xtick.labelsize': 10,\n",
      "          'ytick.labelsize': 10,\n",
      "          #'text.usetex': True,\n",
      "          'figure.figsize': fig_size}\n",
      "pylab.rcParams.update(params)"
     ],
     "language": "python",
     "metadata": {},
     "outputs": [],
     "prompt_number": 7
    },
    {
     "cell_type": "code",
     "collapsed": false,
     "input": [
      "isps = [20, 30]\n",
      "sps = [20, 25, 30, 35, 40]\n",
      "\n",
      "costsColumn = 'Toplevelcostsregiocentral'\n",
      "rootCostsColumn = 'Rootcostsregiocentral'\n",
      "\n",
      "\n",
      "topString = \"\\\\begin{tabular*}{\\\\textwidth}{@{\\extracolsep{\\\\fill} }l\"\n",
      "cols = 5\n",
      "singleCol = \"d{9}\"\n",
      "colString = singleCol * cols\n",
      "topString = topString + colString + \"}\"\n",
      "print topString\n",
      "print \"\\\\toprule\"\n",
      "\n",
      "colHeaders = ['', 'Costs EQ', 'Costs AL', 'Diff', 'Significance', ''] \n",
      "headers = \"\"\n",
      "first = True \n",
      "for h in colHeaders:\n",
      "    if(first):\n",
      "        first = False\n",
      "    else:\n",
      "        headers = headers + \" & \"\n",
      "    headers = headers + \"\\multicolumn{1}{c}{\"+h+\"}\"\n",
      "\n",
      "print headers + \"\\\\\\\\\"\n",
      "\n",
      "def fmStat(dataSet):\n",
      "    mu = np.mean(dataSet)\n",
      "    sig = np.std(dataSet)\n",
      "    return str(np.around(mu, 2)) + \"~(\"+str(np.around(sig, 2))+ \")\"\n",
      "\n",
      "for isp in isps:\n",
      "    print '\\midrule'\n",
      "    print '\\multicolumn{'+str(cols)+'}{l}{'+str(isp) + ' initial sampling points} \\\\\\\\'\n",
      "    print '\\midrule'\n",
      "\n",
      "    rows = []\n",
      "    for sp in sps:\n",
      "        # sp_20_statSamp_0_initP_20_\n",
      "        dataAL = np.genfromtxt(prefix+'sp_'+str(sp)+'_statSamp_0_initP_'+str(isp)+'_.csv', dtype=float, delimiter=';', skip_header=0,names=True)\n",
      "        dataEQ = np.genfromtxt(prefix+'sp_'+str(sp)+'_statSamp_1_initP_'+str(isp)+'_.csv', dtype=float, delimiter=';', skip_header=0,names=True)\n",
      "        \n",
      "        costsAL = au.readCol(dataAL,  costsColumn) - costsCentral\n",
      "        meanCostsAL = np.mean(costsAL)\n",
      "        \n",
      "        rootCostsAL = au.readCol(dataAL, rootCostsColumn) - costsCentral\n",
      "        abstrDiffAL = np.abs(rootCostsAL - costsAL)\n",
      "        meanAbstrDiffAL = np.mean(abstrDiffAL)\n",
      "        \n",
      "        costsEQ = au.readCol(dataEQ,  costsColumn) - costsCentral\n",
      "        meanCostsEQ = np.mean(costsEQ)\n",
      "    \n",
      "        rootCostsEQ = au.readCol(dataEQ, rootCostsColumn) - costsCentral\n",
      "        abstrDiffEQ = np.abs(rootCostsEQ - costsEQ)\n",
      "        meanAbstrDiffEQ = np.mean(abstrDiffEQ)\n",
      "        \n",
      "        diff = costsAL-costsEQ\n",
      "        meanDiff = np.mean(diff)\n",
      "        \n",
      "        \n",
      "        # now for statistical significance\n",
      "        [t, prob] = st.ttest_rel(np.array(costsEQ), np.array(costsAL))\n",
      "\n",
      "        statTest = \"\"\n",
      "        if prob < 0.05:\n",
      "            statTest = \"Yes\" \n",
      "        else:\n",
      "            statTest = \"No\"\n",
      "        statTest = '\\\\text{'+statTest+'}~' + \" (t=\"+str(np.around(t,2))+\";~p=\"+str(np.around(prob,2))+\")\"\n",
      "        # build a row\n",
      "        nextRow = [fmStat(costsEQ) , fmStat(costsAL), fmStat(diff), statTest]\n",
      "        print sp, ' sps',\n",
      "        for s in nextRow:\n",
      "           print ' & ' , s,\n",
      "        print \"\\\\\\\\\"\n",
      "        #print 't: ', t, ' prob: ', prob\n",
      "                \n",
      "print '\\\\bottomrule'\n",
      "print '\\end{tabular*}'\n",
      "        "
     ],
     "language": "python",
     "metadata": {},
     "outputs": [
      {
       "output_type": "stream",
       "stream": "stdout",
       "text": [
        "\\begin{tabular*}{\\textwidth}{@{\\extracolsep{\\fill} }ld{9}d{9}d{9}d{9}d{9}}\n",
        "\\toprule\n",
        "\\multicolumn{1}{c}{} & \\multicolumn{1}{c}{Costs EQ} & \\multicolumn{1}{c}{Costs AL} & \\multicolumn{1}{c}{Diff} & \\multicolumn{1}{c}{Significance} & \\multicolumn{1}{c}{}\\\\\n",
        "\\midrule\n",
        "\\multicolumn{5}{l}{20 initial sampling points} \\\\\n",
        "\\midrule\n",
        "20"
       ]
      },
      {
       "output_type": "stream",
       "stream": "stdout",
       "text": [
        "  sps  &  1372.28~(2004.08)  &  1296.01~(1257.32)  &  -76.27~(1499.27)  &  \\text{No}~ (t=0.55;~p=0.58) \\\\\n",
        "25"
       ]
      },
      {
       "output_type": "stream",
       "stream": "stdout",
       "text": [
        "  sps  &  1378.61~(2041.85)  &  1251.41~(1498.16)  &  -127.2~(1564.74)  &  \\text{No}~ (t=0.89;~p=0.38) \\\\\n",
        "30"
       ]
      },
      {
       "output_type": "stream",
       "stream": "stdout",
       "text": [
        "  sps  &  1368.47~(2445.69)  &  1231.78~(2066.98)  &  -136.7~(1727.34)  &  \\text{No}~ (t=0.86;~p=0.39) \\\\\n",
        "35"
       ]
      },
      {
       "output_type": "stream",
       "stream": "stdout",
       "text": [
        "  sps  &  1238.29~(1974.9)  &  1025.13~(1428.65)  &  -213.15~(1390.2)  &  \\text{No}~ (t=1.67;~p=0.1) \\\\\n",
        "40"
       ]
      },
      {
       "output_type": "stream",
       "stream": "stdout",
       "text": [
        "  sps  &  1194.69~(2073.12)  &  985.78~(1561.89)  &  -208.91~(1537.24)  &  \\text{No}~ (t=1.48;~p=0.14) \\\\\n",
        "\\midrule\n",
        "\\multicolumn{5}{l}{30 initial sampling points} \\\\\n",
        "\\midrule\n",
        "20"
       ]
      },
      {
       "output_type": "stream",
       "stream": "stdout",
       "text": [
        "  sps  &  1299.9~(2207.22)  &  1060.08~(1396.99)  &  -239.81~(1787.99)  &  \\text{No}~ (t=1.46;~p=0.15) \\\\\n",
        "25"
       ]
      },
      {
       "output_type": "stream",
       "stream": "stdout",
       "text": [
        "  sps  &  1238.29~(1974.9)  &  979.97~(1437.42)  &  -258.31~(1475.66)  &  \\text{No}~ (t=1.91;~p=0.06) \\\\\n",
        "30"
       ]
      },
      {
       "output_type": "stream",
       "stream": "stdout",
       "text": [
        "  sps  &  1282.07~(2503.19)  &  1090.15~(1988.62)  &  -191.93~(1523.61)  &  \\text{No}~ (t=1.37;~p=0.17) \\\\\n",
        "35"
       ]
      },
      {
       "output_type": "stream",
       "stream": "stdout",
       "text": [
        "  sps  &  1146.2~(2090.92)  &  937.89~(1537.38)  &  -208.31~(1519.38)  &  \\text{No}~ (t=1.5;~p=0.14) \\\\\n",
        "40"
       ]
      },
      {
       "output_type": "stream",
       "stream": "stdout",
       "text": [
        "  sps  &  1025.8~(2132.39)  &  926.87~(1537.23)  &  -98.92~(1570.11)  &  \\text{No}~ (t=0.69;~p=0.49) \\\\\n",
        "\\bottomrule\n",
        "\\end{tabular*}\n"
       ]
      }
     ],
     "prompt_number": 158
    },
    {
     "cell_type": "code",
     "collapsed": false,
     "input": [
      "isps = [20, 30]\n",
      "sps = [20, 25, 30, 35, 40]\n",
      "\n",
      "costsColumn = 'Toplevelcostsregiocentral'\n",
      "rootCostsColumn = 'Rootcostsregiocentral'\n",
      "\n",
      "\n",
      "topString = \"\\\\begin{tabular*}{\\\\textwidth}{@{\\extracolsep{\\\\fill} }l\"\n",
      "cols = 5\n",
      "singleCol = \"d{9}\"\n",
      "colString = singleCol * cols\n",
      "topString = topString + colString + \"}\"\n",
      "print topString\n",
      "print \"\\\\toprule\"\n",
      "\n",
      "colHeaders = ['', 'Total Time EQ', 'Total Time AL', 'Abstraction Time EQ', 'Abstraction Time AL', ''] \n",
      "headers = \"\"\n",
      "first = True \n",
      "for h in colHeaders:\n",
      "    if(first):\n",
      "        first = False\n",
      "    else:\n",
      "        headers = headers + \" & \"\n",
      "    headers = headers + \"\\multicolumn{1}{c}{\"+h+\"}\"\n",
      "\n",
      "print headers + \"\\\\\\\\\"\n",
      "\n",
      "def fmStat(dataSet):\n",
      "    mu = np.mean(dataSet)\n",
      "    sig = np.std(dataSet)\n",
      "    return str(np.around(mu, 2)) + \"~(\"+str(np.around(sig, 2))+ \")\"\n",
      "\n",
      "for isp in isps:\n",
      "    print '\\midrule'\n",
      "    print '\\multicolumn{'+str(cols)+'}{l}{'+str(isp) + ' initial sampling points} \\\\\\\\'\n",
      "    print '\\midrule'\n",
      "\n",
      "    rows = []\n",
      "    for sp in sps:\n",
      "        # sp_20_statSamp_0_initP_20_\n",
      "        dataAL = np.genfromtxt(prefix+'sp_'+str(sp)+'_statSamp_0_initP_'+str(isp)+'_.csv', dtype=float, delimiter=';', skip_header=0,names=True)\n",
      "        dataEQ = np.genfromtxt(prefix+'sp_'+str(sp)+'_statSamp_1_initP_'+str(isp)+'_.csv', dtype=float, delimiter=';', skip_header=0,names=True)\n",
      "        \n",
      "        totalTimeAL = au.readCol(dataAL, timeColumn)\n",
      "        meanTimeAL = np.mean(totalTimeAL)\n",
      "                \n",
      "        totalTimeEQ = au.readCol(dataEQ, timeColumn)\n",
      "        meanTimeEQ = np.mean(totalTimeEQ)\n",
      "        \n",
      "        fixedAbstractionEQ = au.readCol(dataEQ, fixedAbstractionTime)\n",
      "        meanFixedAbstrEQ = np.mean(fixedAbstractionEQ)\n",
      "            \n",
      "        fixedAbstractionAL = au.readCol(dataAL, fixedAbstractionTime)\n",
      "        meanFixedAbstrAL = np.mean(fixedAbstractionAL)\n",
      "        \n",
      "        # build a row\n",
      "        # overall time / fixed abstraction / fixed abstraction / AVPP / time per step\n",
      "        nextRow = [fmStat(totalTimeEQ) , fmStat(totalTimeAL), fmStat(fixedAbstractionEQ), fmStat(fixedAbstractionAL)]\n",
      "        print sp, ' sps',\n",
      "        for s in nextRow:\n",
      "           print ' & ' , s,\n",
      "        print \"\\\\\\\\\"\n",
      "        #print 't: ', t, ' prob: ', prob\n",
      "                \n",
      "print '\\\\bottomrule'\n",
      "print '\\end{tabular*}'\n",
      "        "
     ],
     "language": "python",
     "metadata": {},
     "outputs": [
      {
       "output_type": "stream",
       "stream": "stdout",
       "text": [
        "\\begin{tabular*}{\\textwidth}{@{\\extracolsep{\\fill} }ld{9}d{9}d{9}d{9}d{9}}\n",
        "\\toprule\n",
        "\\multicolumn{1}{c}{} & \\multicolumn{1}{c}{Total Time EQ} & \\multicolumn{1}{c}{Total Time AL} & \\multicolumn{1}{c}{Abstraction Time EQ} & \\multicolumn{1}{c}{Abstraction Time AL} & \\multicolumn{1}{c}{}\\\\\n",
        "\\midrule\n",
        "\\multicolumn{5}{l}{20 initial sampling points} \\\\\n",
        "\\midrule\n",
        "20"
       ]
      },
      {
       "output_type": "stream",
       "stream": "stdout",
       "text": [
        "  sps  &  2855.75~(480.84)  &  2750.7~(85.32)  &  1557.16~(27.12)  &  1886.17~(28.2) \\\\\n",
        "25"
       ]
      },
      {
       "output_type": "stream",
       "stream": "stdout",
       "text": [
        "  sps  &  2740.72~(271.78)  &  3045.41~(176.13)  &  1636.9~(49.44)  &  2103.12~(52.82) \\\\\n",
        "30"
       ]
      },
      {
       "output_type": "stream",
       "stream": "stdout",
       "text": [
        "  sps  &  2849.78~(55.03)  &  3574.29~(171.94)  &  1891.35~(26.06)  &  2533.96~(40.79) \\\\\n",
        "35"
       ]
      },
      {
       "output_type": "stream",
       "stream": "stdout",
       "text": [
        "  sps  &  3150.04~(143.04)  &  3595.2~(214.37)  &  2197.82~(92.93)  &  2710.01~(59.39) \\\\\n",
        "40"
       ]
      },
      {
       "output_type": "stream",
       "stream": "stdout",
       "text": [
        "  sps  &  3234.1~(289.61)  &  3909.1~(267.79)  &  2184.58~(51.0)  &  2892.79~(86.32) \\\\\n",
        "\\midrule\n",
        "\\multicolumn{5}{l}{30 initial sampling points} \\\\\n",
        "\\midrule\n",
        "20"
       ]
      },
      {
       "output_type": "stream",
       "stream": "stdout",
       "text": [
        "  sps  &  2648.58~(40.01)  &  2961.61~(106.45)  &  1762.7~(34.79)  &  2128.28~(32.73) \\\\\n",
        "25"
       ]
      },
      {
       "output_type": "stream",
       "stream": "stdout",
       "text": [
        "  sps  &  2967.11~(130.9)  &  3262.81~(130.19)  &  2033.69~(81.65)  &  2404.72~(35.43) \\\\\n",
        "30"
       ]
      },
      {
       "output_type": "stream",
       "stream": "stdout",
       "text": [
        "  sps  &  3342.98~(189.3)  &  3943.4~(108.33)  &  2299.49~(33.98)  &  2968.35~(58.96) \\\\\n",
        "35"
       ]
      },
      {
       "output_type": "stream",
       "stream": "stdout",
       "text": [
        "  sps  &  3654.79~(149.25)  &  4010.3~(167.75)  &  2679.43~(126.52)  &  3131.79~(98.96) \\\\\n",
        "40"
       ]
      },
      {
       "output_type": "stream",
       "stream": "stdout",
       "text": [
        "  sps  &  3744.74~(224.09)  &  4336.38~(173.23)  &  2657.12~(35.24)  &  3397.09~(88.99) \\\\\n",
        "\\bottomrule\n",
        "\\end{tabular*}\n"
       ]
      }
     ],
     "prompt_number": 159
    },
    {
     "cell_type": "code",
     "collapsed": false,
     "input": [
      "from pylab import arange,pi,sin,cos,sqrt\n",
      "fig_width_pt = 400  # Get this from LaTeX using \\showthe\\columnwidth\n",
      "inches_per_pt = 1.0/72.27               # Convert pt to inch\n",
      "golden_mean = (sqrt(5)-1.0)/2.0         # Aesthetic ratio\n",
      "fig_width = fig_width_pt*inches_per_pt  # width in inches\n",
      "fig_height = fig_width*golden_mean      # height in inches\n",
      "fig_size =  [fig_width,fig_height]\n",
      "params = {'backend': 'ps',\n",
      "          'axes.labelsize': 10,\n",
      "          'text.fontsize': 10,\n",
      "          'legend.fontsize': 10,\n",
      "          'xtick.labelsize': 8,\n",
      "          'ytick.labelsize': 8,\n",
      "          #'text.usetex': True,\n",
      "          'figure.figsize': fig_size}\n",
      "pylab.rcParams.update(params)"
     ],
     "language": "python",
     "metadata": {},
     "outputs": [],
     "prompt_number": 160
    },
    {
     "cell_type": "code",
     "collapsed": false,
     "input": [
      "isps = [20, 30]\n",
      "sps = [20, 25, 30, 35, 40]\n",
      "\n",
      "costsColumn = 'Toplevelcostsregiocentral'\n",
      "rootCostsColumn = 'Rootcostsregiocentral'\n",
      "timePerStep = 'runtimePerStepRegioCentral'\n",
      "lsp = 'Longest_serial_path'\n",
      "\n",
      "topString = \"\\\\begin{tabular*}{\\\\textwidth}{@{\\extracolsep{\\\\fill} }l\"\n",
      "cols = 6\n",
      "singleCol = \"d{9}\"\n",
      "colString = singleCol * cols\n",
      "topString = topString + colString + \"}\"\n",
      "print topString\n",
      "print \"\\\\toprule\"\n",
      "\n",
      "colHeaders = ['', 'Time/Step EQ', 'Time/Step AL', 'LSP EQ', 'LSP AL', 'Significant', ''] \n",
      "headers = \"\"\n",
      "first = True \n",
      "for h in colHeaders:\n",
      "    if(first):\n",
      "        first = False\n",
      "    else:\n",
      "        headers = headers + \" & \"\n",
      "    headers = headers + \"\\multicolumn{1}{c}{\"+h+\"}\"\n",
      "\n",
      "print headers + \"\\\\\\\\\"\n",
      "\n",
      "def fmStat(dataSet):\n",
      "    mu = np.mean(dataSet)\n",
      "    sig = np.std(dataSet)\n",
      "    return str(np.around(mu, 2)) + \"~(\"+str(np.around(sig, 2))+ \")\"\n",
      "\n",
      "for isp in isps:\n",
      "    print '\\midrule'\n",
      "    print '\\multicolumn{'+str(cols)+'}{l}{'+str(isp) + ' initial sampling points} \\\\\\\\'\n",
      "    print '\\midrule'\n",
      "\n",
      "    rows = []\n",
      "    for sp in sps:\n",
      "        # sp_20_statSamp_0_initP_20_\n",
      "        dataAL = np.genfromtxt(prefix+'sp_'+str(sp)+'_statSamp_0_initP_'+str(isp)+'_.csv', dtype=float, delimiter=';', skip_header=0,names=True)\n",
      "        dataEQ = np.genfromtxt(prefix+'sp_'+str(sp)+'_statSamp_1_initP_'+str(isp)+'_.csv', dtype=float, delimiter=';', skip_header=0,names=True)\n",
      "        \n",
      "        #'Time/Step EQ', 'Time/Step AL', 'LSP EQ', 'LSP AL', 'Significant'\n",
      "        # timePerStep = 'runtimePerStepRegioCentral' lsp = 'Longest_serial_path'\n",
      "        timeStepAL = au.readCol(dataAL,  timePerStep) \n",
      "        timeStepEQ = au.readCol(dataEQ,  timePerStep) \n",
      "        \n",
      "        lspAL = au.readCol(dataAL,  lsp) \n",
      "        lspEQ = au.readCol(dataEQ,  lsp)       \n",
      "        \n",
      "        # now for statistical significance\n",
      "        [t, prob] = st.ttest_rel(np.array(lspEQ), np.array(lspAL))\n",
      "\n",
      "        statTest = \"\"\n",
      "        if prob < 0.05:\n",
      "            statTest = \"Yes\" \n",
      "        else:\n",
      "            statTest = \"No\"\n",
      "        statTest = '\\\\text{'+statTest+'}~' + \" (t=\"+str(np.around(t,2))+\";~p=\"+str(np.around(prob,2))+\")\"\n",
      "        # build a row\n",
      "        nextRow = [fmStat(timeStepEQ) , fmStat(timeStepAL), fmStat(lspEQ), fmStat(lspAL), statTest]\n",
      "        print sp, ' sps',\n",
      "        for s in nextRow:\n",
      "           print ' & ' , s,\n",
      "        print \"\\\\\\\\\"\n",
      "        #print 't: ', t, ' prob: ', prob\n",
      "                \n",
      "print '\\\\bottomrule'\n",
      "print '\\end{tabular*}'\n",
      "        "
     ],
     "language": "python",
     "metadata": {},
     "outputs": [
      {
       "output_type": "stream",
       "stream": "stdout",
       "text": [
        "\\begin{tabular*}{\\textwidth}{@{\\extracolsep{\\fill} }ld{9}d{9}d{9}d{9}d{9}d{9}}\n",
        "\\toprule\n",
        "\\multicolumn{1}{c}{} & \\multicolumn{1}{c}{Time/Step EQ} & \\multicolumn{1}{c}{Time/Step AL} & \\multicolumn{1}{c}{LSP EQ} & \\multicolumn{1}{c}{LSP AL} & \\multicolumn{1}{c}{Significant} & \\multicolumn{1}{c}{}\\\\\n",
        "\\midrule\n",
        "\\multicolumn{6}{l}{20 initial sampling points} \\\\\n",
        "\\midrule\n",
        "20"
       ]
      },
      {
       "output_type": "stream",
       "stream": "stdout",
       "text": [
        "  sps  &  54.11~(28.02)  &  36.02~(11.41)  &  23.07~(24.24)  &  9.46~(10.32)  &  \\text{Yes}~ (t=5.74;~p=0.0) \\\\\n",
        "25"
       ]
      },
      {
       "output_type": "stream",
       "stream": "stdout",
       "text": [
        "  sps  &  45.99~(17.96)  &  39.26~(14.53)  &  15.41~(16.53)  &  11.44~(13.18)  &  \\text{Yes}~ (t=2.02;~p=0.05) \\\\\n",
        "30"
       ]
      },
      {
       "output_type": "stream",
       "stream": "stdout",
       "text": [
        "  sps  &  39.94~(7.9)  &  43.35~(12.97)  &  9.61~(7.31)  &  12.04~(11.56)  &  \\text{No}~ (t=-1.88;~p=0.06) \\\\\n",
        "35"
       ]
      },
      {
       "output_type": "stream",
       "stream": "stdout",
       "text": [
        "  sps  &  39.68~(11.5)  &  36.88~(9.34)  &  9.93~(10.6)  &  8.62~(6.24)  &  \\text{No}~ (t=1.15;~p=0.25) \\\\\n",
        "40"
       ]
      },
      {
       "output_type": "stream",
       "stream": "stdout",
       "text": [
        "  sps  &  43.73~(18.14)  &  42.35~(16.93)  &  13.89~(15.91)  &  13.64~(15.29)  &  \\text{No}~ (t=0.13;~p=0.9) \\\\\n",
        "\\midrule\n",
        "\\multicolumn{6}{l}{30 initial sampling points} \\\\\n",
        "\\midrule\n",
        "20"
       ]
      },
      {
       "output_type": "stream",
       "stream": "stdout",
       "text": [
        "  sps  &  36.91~(6.58)  &  34.72~(8.92)  &  8.82~(6.03)  &  8.32~(7.48)  &  \\text{No}~ (t=0.56;~p=0.58) \\\\\n",
        "25"
       ]
      },
      {
       "output_type": "stream",
       "stream": "stdout",
       "text": [
        "  sps  &  38.89~(11.47)  &  35.75~(5.45)  &  9.83~(10.59)  &  8.16~(2.42)  &  \\text{No}~ (t=1.73;~p=0.09) \\\\\n",
        "30"
       ]
      },
      {
       "output_type": "stream",
       "stream": "stdout",
       "text": [
        "  sps  &  43.48~(15.87)  &  40.63~(6.51)  &  13.13~(14.32)  &  10.32~(5.45)  &  \\text{Yes}~ (t=2.02;~p=0.05) \\\\\n",
        "35"
       ]
      },
      {
       "output_type": "stream",
       "stream": "stdout",
       "text": [
        "  sps  &  40.64~(8.26)  &  36.6~(9.19)  &  10.53~(7.28)  &  9.52~(7.78)  &  \\text{No}~ (t=1.0;~p=0.32) \\\\\n",
        "40"
       ]
      },
      {
       "output_type": "stream",
       "stream": "stdout",
       "text": [
        "  sps  &  45.32~(13.09)  &  39.14~(11.95)  &  13.6~(10.7)  &  10.91~(9.1)  &  \\text{Yes}~ (t=2.47;~p=0.02) \\\\\n",
        "\\bottomrule\n",
        "\\end{tabular*}\n"
       ]
      }
     ],
     "prompt_number": 161
    },
    {
     "cell_type": "code",
     "collapsed": false,
     "input": [],
     "language": "python",
     "metadata": {},
     "outputs": [],
     "prompt_number": 161
    }
   ],
   "metadata": {}
  }
 ]
}